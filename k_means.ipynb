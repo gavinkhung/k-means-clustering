{
 "cells": [
  {
   "cell_type": "code",
   "execution_count": 1,
   "id": "700f0ed9-668d-481c-bd36-089a7b2b90aa",
   "metadata": {},
   "outputs": [],
   "source": [
    "import matplotlib.pyplot as plt\n",
    "import numpy as np\n",
    "from IPython.display import Image\n",
    "from celluloid import Camera"
   ]
  },
  {
   "cell_type": "code",
   "execution_count": 2,
   "id": "b1a269d9-9826-40c9-8657-75d66121ba0b",
   "metadata": {
    "tags": []
   },
   "outputs": [],
   "source": [
    "K = 12\n",
    "w = 1200\n",
    "h = 675\n",
    "nums = 100\n",
    "\n",
    "colors = np.random.rand(K, 3)\n",
    "\n",
    "x = np.random.randint(0, w, size=nums)\n",
    "y = np.random.randint(0, h, size=nums)\n",
    "pts = np.column_stack((x, y))"
   ]
  },
  {
   "cell_type": "code",
   "execution_count": 3,
   "id": "93d99cca-3efc-4476-b7fb-453c1c05b886",
   "metadata": {},
   "outputs": [],
   "source": [
    "centroids_x = np.random.randint(0, w, size=K)\n",
    "centroids_y = np.random.randint(0, h, size=K)\n",
    "centroids = np.column_stack((centroids_x, centroids_y))"
   ]
  },
  {
   "cell_type": "code",
   "execution_count": 4,
   "id": "204ae462-5452-4323-9d49-0e67bbc7a9ec",
   "metadata": {},
   "outputs": [],
   "source": [
    "boundary_div = 25\n",
    "x_boundary_inc = int(w / boundary_div)\n",
    "y_boundary_inc = int(h / boundary_div)\n",
    "\n",
    "x_boundary = np.linspace(0, w, x_boundary_inc + 1)\n",
    "y_boundary = np.linspace(0, h, y_boundary_inc + 1)\n",
    "x_boundary, y_boundary = np.meshgrid(x_boundary, y_boundary)\n",
    "colors_idx_boundary = np.random.randint(0, K, size=x_boundary.shape)\n",
    "\n",
    "x_boundary_flat = x_boundary.flatten()\n",
    "y_boundary_flat = y_boundary.flatten()"
   ]
  },
  {
   "cell_type": "code",
   "execution_count": 5,
   "id": "4ec3b74b-1962-4624-b81f-5490efd69b33",
   "metadata": {},
   "outputs": [],
   "source": [
    "def create_plots():\n",
    "    fig, ax = plt.subplots(1, 3, figsize=(16 / 9.0 * 4, 4 * 1), layout=\"constrained\")\n",
    "    fig.suptitle(\"K-Means Clustering Unsupervised\")\n",
    "\n",
    "    ax[0].set_xlabel(\"K Clusters\", fontweight=\"normal\")\n",
    "    ax[0].set_ylabel(\"Sum of Euclidean Distance Squared\", fontweight=\"normal\")\n",
    "    ax[0].set_title(\"Elbow Method\")\n",
    "\n",
    "    ax[1].axis(\"off\")\n",
    "    ax[2].axis(\"off\")\n",
    "\n",
    "    ax[2] = fig.add_subplot(1, 2, 2)\n",
    "    ax[2].set_xlabel(\"X\")\n",
    "    ax[2].set_ylabel(\"Y\")\n",
    "    ax[2].set_title(\"Centroids\")\n",
    "\n",
    "    camera = Camera(fig)\n",
    "    return ax[0], ax[2], camera"
   ]
  },
  {
   "cell_type": "code",
   "execution_count": 6,
   "id": "280c0da5-6ef7-4eaa-92fd-27e5e0dd3ee3",
   "metadata": {},
   "outputs": [],
   "source": [
    "def euclidean_distance(p1, p2):\n",
    "    return np.sqrt((p1[0] - p2[0]) ** 2 + (p1[1] - p2[1]) ** 2)\n",
    "\n",
    "\n",
    "def manhattan_distance(p1, p2):\n",
    "    return abs(p1[0] - p2[0]) + abs(p1[1] - p2[1])"
   ]
  },
  {
   "cell_type": "code",
   "execution_count": 8,
   "id": "f0c224c3-9d3e-40f1-b151-55c7e5eca03f",
   "metadata": {},
   "outputs": [
    {
     "data": {
      "text/html": [
       "<img src=\"k_means.gif\"/>"
      ],
      "text/plain": [
       "<IPython.core.display.Image object>"
      ]
     },
     "execution_count": 8,
     "metadata": {},
     "output_type": "execute_result"
    }
   ],
   "source": [
    "ax0, ax1, camera = create_plots()\n",
    "epochs = 8\n",
    "\n",
    "dists = np.zeros(K)\n",
    "dists_idx = np.arange(1, K + 1)\n",
    "\n",
    "for k in range(1, K + 1):\n",
    "    acc_dist_squared = 0\n",
    "    for e in range(epochs):\n",
    "        # Draw the boundaries\n",
    "        for index in np.ndindex(x_boundary.shape):\n",
    "            x = x_boundary[index]\n",
    "            y = y_boundary[index]\n",
    "\n",
    "            colors_idx_boundary[index] = 0\n",
    "            min_group = 0\n",
    "            # set min distance to largest possible distance initially\n",
    "            min_dist = np.sqrt(w**2 + h**2)\n",
    "\n",
    "            curr_pt = [x, y]\n",
    "            curr_c = []\n",
    "            for c in range(k):\n",
    "                curr_c = centroids[c]\n",
    "\n",
    "                dist = euclidean_distance(curr_pt, curr_c)\n",
    "                if dist < min_dist:\n",
    "                    min_dist = dist\n",
    "                    min_group = c\n",
    "            colors_idx_boundary[index] = min_group\n",
    "\n",
    "        colors_boundary = colors[colors_idx_boundary.flatten()]\n",
    "        ax1.scatter(\n",
    "            x_boundary_flat, y_boundary_flat, c=colors_boundary, s=20, alpha=0.45\n",
    "        )\n",
    "\n",
    "        # Assign each point to a centroid\n",
    "        groups = [[] for _ in range(k)]\n",
    "        acc_dist_squared = 0\n",
    "        for i in range(nums):\n",
    "            min_group = 0\n",
    "            # set min distance to largest possible distance initially\n",
    "            min_dist = np.sqrt(w**2 + h**2)\n",
    "\n",
    "            curr_pt = pts[i]\n",
    "            curr_c = []\n",
    "            for c in range(k):\n",
    "                curr_c = centroids[c]\n",
    "\n",
    "                dist = euclidean_distance(curr_pt, curr_c)\n",
    "                if dist < min_dist:\n",
    "                    min_dist = dist\n",
    "                    min_group = c\n",
    "\n",
    "            groups[min_group].append(curr_pt)\n",
    "            acc_dist_squared += min_dist**2\n",
    "\n",
    "        # Centroids\n",
    "        for g in range(k):\n",
    "            # Draw the centroids\n",
    "            curr_centroid = centroids[g]\n",
    "            curr_centroid = np.array([curr_centroid], dtype=np.int32)\n",
    "            ax1.scatter(curr_centroid[:, 0], curr_centroid[:, 1], color=colors[g], s=8)\n",
    "\n",
    "            group_pts = np.array(groups[g])\n",
    "            if group_pts.size != 0:\n",
    "                # Draw lines between points and the centroids\n",
    "                pts_in_group = group_pts.shape[0]\n",
    "                for i in range(pts_in_group):\n",
    "                    group_pt = group_pts[i]\n",
    "                    ax1.plot(\n",
    "                        [group_pt[0], centroids[g][0]],\n",
    "                        [group_pt[1], centroids[g][1]],\n",
    "                        color=colors[g],\n",
    "                        linewidth=2,\n",
    "                        alpha=0.55,\n",
    "                    )\n",
    "\n",
    "                # Update the location of the centroids\n",
    "                new_centroid = np.mean(group_pts, axis=0)\n",
    "                centroids[g] = new_centroid\n",
    "                new_centroid = np.array([new_centroid], dtype=np.int32)\n",
    "\n",
    "        # Draw the points\n",
    "        ax1.scatter(pts[:, 0], pts[:, 1], c=\"black\", s=15, alpha=0.3)\n",
    "        # Draw the Elbow Method graph\n",
    "        if k - 2 > 0:\n",
    "            ax0.plot(dists_idx[: k - 1], dists[: k - 1], color=\"red\")\n",
    "        camera.snap()\n",
    "        # if e % 2 == 0:\n",
    "        #     camera.snap()\n",
    "        # else:\n",
    "        #     ax0.clear()\n",
    "        #     ax1.clear()\n",
    "\n",
    "    acc_dist_squared /= nums\n",
    "    dists[k - 1] = acc_dist_squared\n",
    "\n",
    "plt.close()\n",
    "animation = camera.animate()\n",
    "animation.save(\"k_means.gif\", writer=\"pillow\")\n",
    "Image(url=\"k_means.gif\")"
   ]
  }
 ],
 "metadata": {
  "kernelspec": {
   "display_name": "Python 3 (ipykernel)",
   "language": "python",
   "name": "python3"
  },
  "language_info": {
   "codemirror_mode": {
    "name": "ipython",
    "version": 3
   },
   "file_extension": ".py",
   "mimetype": "text/x-python",
   "name": "python",
   "nbconvert_exporter": "python",
   "pygments_lexer": "ipython3",
   "version": "3.12.5"
  }
 },
 "nbformat": 4,
 "nbformat_minor": 5
}
