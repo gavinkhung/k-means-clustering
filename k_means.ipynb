{
 "cells": [
  {
   "cell_type": "code",
   "execution_count": 1,
   "id": "700f0ed9-668d-481c-bd36-089a7b2b90aa",
   "metadata": {},
   "outputs": [],
   "source": [
    "import matplotlib.pyplot as plt\n",
    "import numpy as np\n",
    "from IPython.display import display, Latex, Image\n",
    "from sympy import Derivative, Indexed, Sum, init_printing, lambdify, symbols, latex\n",
    "from celluloid import Camera\n",
    "\n",
    "init_printing()"
   ]
  },
  {
   "cell_type": "code",
   "execution_count": 2,
   "id": "b1a269d9-9826-40c9-8657-75d66121ba0b",
   "metadata": {},
   "outputs": [
    {
     "name": "stdout",
     "output_type": "stream",
     "text": [
      "(100,)\n",
      "(100, 2)\n"
     ]
    }
   ],
   "source": [
    "k = 7\n",
    "w = 1600\n",
    "h = 900\n",
    "nums = 100\n",
    "\n",
    "colors = np.random.rand(k, 3)\n",
    "\n",
    "x = np.random.randint(0, w, size=nums)\n",
    "y = np.random.randint(0, h, size=nums)\n",
    "pts = np.column_stack((x,y))\n",
    "\n",
    "print(x.shape)\n",
    "print(pts.shape)"
   ]
  },
  {
   "cell_type": "code",
   "execution_count": 3,
   "id": "93d99cca-3efc-4476-b7fb-453c1c05b886",
   "metadata": {},
   "outputs": [
    {
     "name": "stdout",
     "output_type": "stream",
     "text": [
      "(7, 2)\n"
     ]
    }
   ],
   "source": [
    "centroids_x = np.random.randint(0, w, size=k)\n",
    "centroids_y = np.random.randint(0, h, size=k)\n",
    "centroids = np.column_stack((centroids_x,centroids_y))\n",
    "\n",
    "print(centroids.shape)"
   ]
  },
  {
   "cell_type": "code",
   "execution_count": 4,
   "id": "4ec3b74b-1962-4624-b81f-5490efd69b33",
   "metadata": {},
   "outputs": [],
   "source": [
    "def create_plots():\n",
    "    fig,ax = plt.subplots(1,3,figsize=(16 / 9.0 * 4, 4 * 1), layout=\"constrained\")\n",
    "    fig.suptitle(\"K-Means Clustering Unsupervised\")\n",
    "    \n",
    "    ax[0].set_xlabel(\"Epoch\", fontweight=\"normal\")\n",
    "    ax[0].set_ylabel(\"Euclidean Distance\", fontweight=\"normal\")\n",
    "    ax[0].set_title(\"Centroid Distance\")\n",
    "    \n",
    "    ax[1].axis(\"off\")\n",
    "    ax[2].axis(\"off\")\n",
    "    \n",
    "    ax[2] = fig.add_subplot(1, 2, 2)\n",
    "    ax[2].set_xlabel(\"X\")\n",
    "    ax[2].set_ylabel(\"Y\")\n",
    "    ax[2].set_title(\"Centroids\")\n",
    "\n",
    "    camera = Camera(fig)\n",
    "    return ax[0], ax[2], camera"
   ]
  },
  {
   "cell_type": "code",
   "execution_count": 5,
   "id": "c42ef0fd-1064-40bb-918d-2577aaeb83ca",
   "metadata": {},
   "outputs": [
    {
     "data": {
      "text/html": [
       "<img src=\"k_means.gif\"/>"
      ],
      "text/plain": [
       "<IPython.core.display.Image object>"
      ]
     },
     "execution_count": 5,
     "metadata": {},
     "output_type": "execute_result"
    }
   ],
   "source": [
    "ax0, ax1, camera = create_plots()\n",
    "epochs = 10\n",
    "\n",
    "dists = np.zeros(epochs)\n",
    "dists_idx = np.arange(1, epochs+1)\n",
    "\n",
    "for e in range(epochs):\n",
    "    groups = [[] for _ in range(k)]\n",
    "    acc_dist = 0\n",
    "    for i in range(nums):\n",
    "        min_group = 0\n",
    "        min_dist = np.sqrt(w**2 + h**2)\n",
    "        \n",
    "        curr_pt = pts[i]\n",
    "        curr_c = []\n",
    "        for c in range(k):\n",
    "            curr_c = centroids[c]\n",
    "            \n",
    "            dist = np.sqrt((curr_pt[0]-curr_c[0])**2+(curr_pt[1]-curr_c[1])**2)\n",
    "            # dist = abs(curr_pt[0]-curr_c[0])+abs(curr_pt[1]-curr_c[1])\n",
    "            if dist < min_dist:\n",
    "                min_dist = dist\n",
    "                min_group = c\n",
    "        \n",
    "        groups[min_group].append(curr_pt)\n",
    "        acc_dist += min_dist\n",
    "        \n",
    "    acc_dist /= nums\n",
    "    dists[e] = acc_dist\n",
    "    dists_mask = dists != 0\n",
    "    ax0.plot(dists_idx[:e+1], dists[:e+1], color=\"red\")\n",
    "        \n",
    "    for g in range(k):\n",
    "        # Draw the centroids\n",
    "        curr_centroid = centroids[g]\n",
    "        curr_centroid = np.array([curr_centroid], dtype=np.int32)\n",
    "        ax1.scatter(curr_centroid[:,0], curr_centroid[:,1], color=colors[g])\n",
    "        \n",
    "        group_pts = np.array(groups[g])\n",
    "        if group_pts.size != 0:\n",
    "            # Draw lines between points and the centroids\n",
    "            pts_in_group = group_pts.shape[0]\n",
    "            for i in range(pts_in_group):\n",
    "                group_pt = group_pts[i]\n",
    "                ax1.plot([group_pt[0], centroids[g][0]], [group_pt[1], centroids[g][1]], color=\"black\",alpha=0.3)\n",
    "                \n",
    "            # Update the location of the centroids\n",
    "            new_centroid = np.mean(group_pts, axis=0)\n",
    "            centroids[g] = new_centroid\n",
    "            new_centroid = np.array([new_centroid], dtype=np.int32)\n",
    "        \n",
    "\n",
    "\n",
    "    \n",
    "    ax1.scatter(pts[:,0], pts[:,1], alpha=0.1, c=\"blue\")\n",
    "    camera.snap()\n",
    "\n",
    "plt.close()\n",
    "animation = camera.animate()\n",
    "animation.save(\"k_means.gif\", writer=\"pillow\")\n",
    "Image(url=\"k_means.gif\")"
   ]
  }
 ],
 "metadata": {
  "kernelspec": {
   "display_name": "Python 3 (ipykernel)",
   "language": "python",
   "name": "python3"
  },
  "language_info": {
   "codemirror_mode": {
    "name": "ipython",
    "version": 3
   },
   "file_extension": ".py",
   "mimetype": "text/x-python",
   "name": "python",
   "nbconvert_exporter": "python",
   "pygments_lexer": "ipython3",
   "version": "3.9.12"
  }
 },
 "nbformat": 4,
 "nbformat_minor": 5
}
